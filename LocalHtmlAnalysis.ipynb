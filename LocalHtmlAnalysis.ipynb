{
  "nbformat": 4,
  "nbformat_minor": 0,
  "metadata": {
    "colab": {
      "name": "HtmlScreiping.ipynb",
      "provenance": [],
      "collapsed_sections": [],
      "authorship_tag": "ABX9TyOfXGwACBRCdAlypYLnRYlE",
      "include_colab_link": true
    },
    "kernelspec": {
      "name": "python3",
      "display_name": "Python 3"
    },
    "language_info": {
      "name": "python"
    }
  },
  "cells": [
    {
      "cell_type": "markdown",
      "metadata": {
        "id": "view-in-github",
        "colab_type": "text"
      },
      "source": [
        "<a href=\"https://colab.research.google.com/github/matsukage-github/python_auto/blob/main/LocalHtmlAnalysis.ipynb\" target=\"_parent\"><img src=\"https://colab.research.google.com/assets/colab-badge.svg\" alt=\"Open In Colab\"/></a>"
      ]
    },
    {
      "cell_type": "code",
      "metadata": {
        "colab": {
          "base_uri": "https://localhost:8080/"
        },
        "id": "2lcWgEVUZCmk",
        "outputId": "d586ff59-7697-4d41-d2e3-bf2663f05d54"
      },
      "source": [
        "pip install beautifulsoup4"
      ],
      "execution_count": null,
      "outputs": [
        {
          "output_type": "stream",
          "text": [
            "Requirement already satisfied: beautifulsoup4 in /usr/local/lib/python3.7/dist-packages (4.6.3)\n"
          ],
          "name": "stdout"
        }
      ]
    },
    {
      "cell_type": "code",
      "metadata": {
        "id": "YwoYmcQoZHRx"
      },
      "source": [
        "from bs4 import BeautifulSoup    # importする\n",
        "#soup = BeautifulSoup(html.content, \"html.parser\")    # HTMLを解析する\n",
        "\n",
        "import requests\n",
        "from bs4 import BeautifulSoup\n",
        "# Webページを取得して解析する\n",
        "\n",
        "load_url = \"https://hiroyukidb.net/search/?words=IT\"\n",
        "html = requests.get(load_url)\n",
        "soup = BeautifulSoup(html.content, \"html.parser\")\n",
        "\n",
        "# title、h2、liタグを検索して表示する\n",
        "print(soup.find(\"title\"))    # タグを検索して表示\n",
        "print(soup.find(\"h3\"))\n",
        "#print(soup.find(\"li\"))\n",
        "print(soup.find(id='serach_result')) \n",
        "print(soup.text)"
      ],
      "execution_count": null,
      "outputs": []
    },
    {
      "cell_type": "code",
      "metadata": {
        "id": "PiqJPgTGZRno",
        "colab": {
          "base_uri": "https://localhost:8080/"
        },
        "outputId": "0d0e9835-a529-48ab-e53b-b21d5d0312ac"
      },
      "source": [
        "pip install selenium"
      ],
      "execution_count": null,
      "outputs": [
        {
          "output_type": "stream",
          "text": [
            "Collecting selenium\n",
            "\u001b[?25l  Downloading https://files.pythonhosted.org/packages/80/d6/4294f0b4bce4de0abf13e17190289f9d0613b0a44e5dd6a7f5ca98459853/selenium-3.141.0-py2.py3-none-any.whl (904kB)\n",
            "\r\u001b[K     |▍                               | 10kB 11.4MB/s eta 0:00:01\r\u001b[K     |▊                               | 20kB 17.0MB/s eta 0:00:01\r\u001b[K     |█                               | 30kB 8.5MB/s eta 0:00:01\r\u001b[K     |█▌                              | 40kB 10.5MB/s eta 0:00:01\r\u001b[K     |█▉                              | 51kB 12.4MB/s eta 0:00:01\r\u001b[K     |██▏                             | 61kB 12.5MB/s eta 0:00:01\r\u001b[K     |██▌                             | 71kB 13.2MB/s eta 0:00:01\r\u001b[K     |███                             | 81kB 14.3MB/s eta 0:00:01\r\u001b[K     |███▎                            | 92kB 10.4MB/s eta 0:00:01\r\u001b[K     |███▋                            | 102kB 10.9MB/s eta 0:00:01\r\u001b[K     |████                            | 112kB 10.9MB/s eta 0:00:01\r\u001b[K     |████▍                           | 122kB 10.9MB/s eta 0:00:01\r\u001b[K     |████▊                           | 133kB 10.9MB/s eta 0:00:01\r\u001b[K     |█████                           | 143kB 10.9MB/s eta 0:00:01\r\u001b[K     |█████▍                          | 153kB 10.9MB/s eta 0:00:01\r\u001b[K     |█████▉                          | 163kB 10.9MB/s eta 0:00:01\r\u001b[K     |██████▏                         | 174kB 10.9MB/s eta 0:00:01\r\u001b[K     |██████▌                         | 184kB 10.9MB/s eta 0:00:01\r\u001b[K     |██████▉                         | 194kB 10.9MB/s eta 0:00:01\r\u001b[K     |███████▎                        | 204kB 10.9MB/s eta 0:00:01\r\u001b[K     |███████▋                        | 215kB 10.9MB/s eta 0:00:01\r\u001b[K     |████████                        | 225kB 10.9MB/s eta 0:00:01\r\u001b[K     |████████▎                       | 235kB 10.9MB/s eta 0:00:01\r\u001b[K     |████████▊                       | 245kB 10.9MB/s eta 0:00:01\r\u001b[K     |█████████                       | 256kB 10.9MB/s eta 0:00:01\r\u001b[K     |█████████▍                      | 266kB 10.9MB/s eta 0:00:01\r\u001b[K     |█████████▉                      | 276kB 10.9MB/s eta 0:00:01\r\u001b[K     |██████████▏                     | 286kB 10.9MB/s eta 0:00:01\r\u001b[K     |██████████▌                     | 296kB 10.9MB/s eta 0:00:01\r\u001b[K     |██████████▉                     | 307kB 10.9MB/s eta 0:00:01\r\u001b[K     |███████████▎                    | 317kB 10.9MB/s eta 0:00:01\r\u001b[K     |███████████▋                    | 327kB 10.9MB/s eta 0:00:01\r\u001b[K     |████████████                    | 337kB 10.9MB/s eta 0:00:01\r\u001b[K     |████████████▎                   | 348kB 10.9MB/s eta 0:00:01\r\u001b[K     |████████████▊                   | 358kB 10.9MB/s eta 0:00:01\r\u001b[K     |█████████████                   | 368kB 10.9MB/s eta 0:00:01\r\u001b[K     |█████████████▍                  | 378kB 10.9MB/s eta 0:00:01\r\u001b[K     |█████████████▊                  | 389kB 10.9MB/s eta 0:00:01\r\u001b[K     |██████████████▏                 | 399kB 10.9MB/s eta 0:00:01\r\u001b[K     |██████████████▌                 | 409kB 10.9MB/s eta 0:00:01\r\u001b[K     |██████████████▉                 | 419kB 10.9MB/s eta 0:00:01\r\u001b[K     |███████████████▏                | 430kB 10.9MB/s eta 0:00:01\r\u001b[K     |███████████████▋                | 440kB 10.9MB/s eta 0:00:01\r\u001b[K     |████████████████                | 450kB 10.9MB/s eta 0:00:01\r\u001b[K     |████████████████▎               | 460kB 10.9MB/s eta 0:00:01\r\u001b[K     |████████████████▋               | 471kB 10.9MB/s eta 0:00:01\r\u001b[K     |█████████████████               | 481kB 10.9MB/s eta 0:00:01\r\u001b[K     |█████████████████▍              | 491kB 10.9MB/s eta 0:00:01\r\u001b[K     |█████████████████▊              | 501kB 10.9MB/s eta 0:00:01\r\u001b[K     |██████████████████▏             | 512kB 10.9MB/s eta 0:00:01\r\u001b[K     |██████████████████▌             | 522kB 10.9MB/s eta 0:00:01\r\u001b[K     |██████████████████▉             | 532kB 10.9MB/s eta 0:00:01\r\u001b[K     |███████████████████▏            | 542kB 10.9MB/s eta 0:00:01\r\u001b[K     |███████████████████▋            | 552kB 10.9MB/s eta 0:00:01\r\u001b[K     |████████████████████            | 563kB 10.9MB/s eta 0:00:01\r\u001b[K     |████████████████████▎           | 573kB 10.9MB/s eta 0:00:01\r\u001b[K     |████████████████████▋           | 583kB 10.9MB/s eta 0:00:01\r\u001b[K     |█████████████████████           | 593kB 10.9MB/s eta 0:00:01\r\u001b[K     |█████████████████████▍          | 604kB 10.9MB/s eta 0:00:01\r\u001b[K     |█████████████████████▊          | 614kB 10.9MB/s eta 0:00:01\r\u001b[K     |██████████████████████          | 624kB 10.9MB/s eta 0:00:01\r\u001b[K     |██████████████████████▌         | 634kB 10.9MB/s eta 0:00:01\r\u001b[K     |██████████████████████▉         | 645kB 10.9MB/s eta 0:00:01\r\u001b[K     |███████████████████████▏        | 655kB 10.9MB/s eta 0:00:01\r\u001b[K     |███████████████████████▌        | 665kB 10.9MB/s eta 0:00:01\r\u001b[K     |████████████████████████        | 675kB 10.9MB/s eta 0:00:01\r\u001b[K     |████████████████████████▎       | 686kB 10.9MB/s eta 0:00:01\r\u001b[K     |████████████████████████▋       | 696kB 10.9MB/s eta 0:00:01\r\u001b[K     |█████████████████████████       | 706kB 10.9MB/s eta 0:00:01\r\u001b[K     |█████████████████████████▍      | 716kB 10.9MB/s eta 0:00:01\r\u001b[K     |█████████████████████████▊      | 727kB 10.9MB/s eta 0:00:01\r\u001b[K     |██████████████████████████      | 737kB 10.9MB/s eta 0:00:01\r\u001b[K     |██████████████████████████▍     | 747kB 10.9MB/s eta 0:00:01\r\u001b[K     |██████████████████████████▉     | 757kB 10.9MB/s eta 0:00:01\r\u001b[K     |███████████████████████████▏    | 768kB 10.9MB/s eta 0:00:01\r\u001b[K     |███████████████████████████▌    | 778kB 10.9MB/s eta 0:00:01\r\u001b[K     |████████████████████████████    | 788kB 10.9MB/s eta 0:00:01\r\u001b[K     |████████████████████████████▎   | 798kB 10.9MB/s eta 0:00:01\r\u001b[K     |████████████████████████████▋   | 808kB 10.9MB/s eta 0:00:01\r\u001b[K     |█████████████████████████████   | 819kB 10.9MB/s eta 0:00:01\r\u001b[K     |█████████████████████████████▍  | 829kB 10.9MB/s eta 0:00:01\r\u001b[K     |█████████████████████████████▊  | 839kB 10.9MB/s eta 0:00:01\r\u001b[K     |██████████████████████████████  | 849kB 10.9MB/s eta 0:00:01\r\u001b[K     |██████████████████████████████▍ | 860kB 10.9MB/s eta 0:00:01\r\u001b[K     |██████████████████████████████▉ | 870kB 10.9MB/s eta 0:00:01\r\u001b[K     |███████████████████████████████▏| 880kB 10.9MB/s eta 0:00:01\r\u001b[K     |███████████████████████████████▌| 890kB 10.9MB/s eta 0:00:01\r\u001b[K     |███████████████████████████████▉| 901kB 10.9MB/s eta 0:00:01\r\u001b[K     |████████████████████████████████| 911kB 10.9MB/s \n",
            "\u001b[?25hRequirement already satisfied: urllib3 in /usr/local/lib/python3.7/dist-packages (from selenium) (1.24.3)\n",
            "Installing collected packages: selenium\n",
            "Successfully installed selenium-3.141.0\n"
          ],
          "name": "stdout"
        }
      ]
    },
    {
      "cell_type": "code",
      "metadata": {
        "id": "wNJ84h3ck3e4"
      },
      "source": [
        "from selenium import webdriver\n",
        "from selenium.webdriver.common.keys import Keys\n",
        "\n",
        "chrome = webdriver.Chrome(executable_path=\"C:\\Akihiro Yoshimatsu\\chromedriver.exe\")\n",
        "\n",
        "location = input(\"場所入力：\")\n",
        "favorite_foods = [\"カレー\", \"ラーメン\", \"チャーハン\", \"とんかつ\", \"お好み焼き\"]\n",
        "\n",
        "for i, food in enumerate(favorite_foods):\n",
        "    if i > 0:\n",
        "        # 新しいタブ\n",
        "        chrome.execute_script(\"window.open('','_blank');\")\n",
        "        chrome.switch_to.window(chrome.window_handles[i])\n",
        "\n",
        "    # グーグルを開く\n",
        "    chrome.get(\"https://www.google.co.jp\")\n",
        "\n",
        "    # 検索ワード入力\n",
        "    search_box = chrome.find_element_by_name(\"q\")\n",
        "    search_words = location, food\n",
        "    search_box.send_keys(\" \".join(search_words))\n",
        "\n",
        "    # 検索実行\n",
        "    search_box.send_keys(Keys.RETURN)\n",
        "    print(chrome.title)\n",
        "\n",
        "# 先頭のタブに戻る\n",
        "chrome.switch_to.window(chrome.window_handles[0])"
      ],
      "execution_count": null,
      "outputs": []
    },
    {
      "cell_type": "code",
      "metadata": {
        "id": "Y5Jk0hN1lJxI"
      },
      "source": [
        "from selenium import webdriver\n",
        "from selenium.webdriver.common.keys import Keys as keys\n",
        " \n",
        "\"\"\"\n",
        "※注意※\n",
        "下記コードにて、MacとWindows両方のpathを設定しているので、\n",
        "お使いのPCに合わせて不要なコードをコメントしてください。(コメントアウト)\n",
        "\"\"\"\n",
        " \n",
        "# Macの場合 (Chromedriveがこのプログラムを実行している同じ場所にある前提)\n",
        "#driver = webdriver.Chrome(executable_path=\"./chromedriver\") # Windowsの方はこの行をコメントアウト    \n",
        " \n",
        " \n",
        "# windowsの場合 (Cドライブ直下にchromedriver.exeがある前提)\n",
        "driver = webdriver.Chrome(executable_path=\"C:\\\\Akihiro Yoshimatsu\\\\chromedriver.exe\") # Macの方はこの行をコメントアウト\n",
        " \n",
        " \n",
        "### 1.Webサイトにアクセスする\n",
        "driver.get(\"https://aiacademy.jp/\")"
      ],
      "execution_count": null,
      "outputs": []
    },
    {
      "cell_type": "code",
      "metadata": {
        "id": "cDqkbHy4m8Ax"
      },
      "source": [
        "pip install chromedriver-binary"
      ],
      "execution_count": null,
      "outputs": []
    },
    {
      "cell_type": "code",
      "metadata": {
        "id": "gd3Hc-pHoCSQ"
      },
      "source": [
        "driver.get(\"https://www.google.co.jp\")"
      ],
      "execution_count": null,
      "outputs": []
    },
    {
      "cell_type": "code",
      "metadata": {
        "id": "ZKVyFsfloMr5"
      },
      "source": [
        "driver = webdriver.Chrome(executable_path='C:\\\\driver\\\\chromedriver.exe')"
      ],
      "execution_count": null,
      "outputs": []
    },
    {
      "cell_type": "code",
      "metadata": {
        "id": "_c4ek5l5ohwB"
      },
      "source": [
        "!pip install selenium\n",
        "!apt-get update\n",
        "!apt install chromium-chromedriver\n",
        "!cp /usr/lib/chromium-browser/chromedriver /usr/bin\n",
        "\n",
        "from selenium import webdriver\n",
        "options = webdriver.ChromeOptions()\n",
        "options.add_argument('--headless')\n",
        "options.add_argument('--no-sandbox')\n",
        "options.add_argument('--disable-dev-shm-usage')\n",
        "\n",
        "driver = webdriver.Chrome('chromedriver',options=options)\n",
        "driver.get(\"https://www.google.co.jp\")\n",
        "title = driver.find_element_by_class_name('logo-header')\n",
        "print(title.text)"
      ],
      "execution_count": null,
      "outputs": []
    },
    {
      "cell_type": "code",
      "metadata": {
        "colab": {
          "base_uri": "https://localhost:8080/"
        },
        "id": "TPPitnPwpc9a",
        "outputId": "0bbf98ea-3370-41a0-efcf-69ed8a516e16"
      },
      "source": [
        "driver = webdriver.Chrome('chromedriver',options=options)\n",
        "driver.get(\"https://hiroyukidb.net/search/?words=IT\")\n",
        "# 検索ワード入力\n",
        "#search_box = driver.find_element_by_name(\"q\")\n",
        "#search_words = location, food\n",
        "#search_box.send_keys(\" \".join(search_words))\n",
        "\n",
        "# 検索実行\n",
        "#search_box.send_keys(Keys.RETURN)\n",
        "print(driver)"
      ],
      "execution_count": null,
      "outputs": [
        {
          "output_type": "stream",
          "text": [
            "<selenium.webdriver.chrome.webdriver.WebDriver (session=\"2b52d9e303c876506ed75a739d40a014\")>\n"
          ],
          "name": "stdout"
        }
      ]
    },
    {
      "cell_type": "code",
      "metadata": {
        "id": "RUIqhdjlpyFz",
        "colab": {
          "base_uri": "https://localhost:8080/"
        },
        "outputId": "414a44c1-5b47-4eef-a35c-11688a8d1049"
      },
      "source": [
        "from bs4 import BeautifulSoup\n",
        "import requests\n",
        "\n",
        "url = 'https://hiroyukidb.net/search/?words=IT'\n",
        "r = requests.get(url)\n",
        "\n",
        "soup = BeautifulSoup(r.content,'html.parser')\n",
        "ranking = soup.select('h3')\n",
        "\n",
        "ranking_list = []\n",
        "\n",
        "for i in ranking:\n",
        "    ranking_list.append(i.string)\n",
        "\n",
        "print(ranking_list)"
      ],
      "execution_count": null,
      "outputs": [
        {
          "output_type": "stream",
          "text": [
            "[]\n"
          ],
          "name": "stdout"
        }
      ]
    },
    {
      "cell_type": "code",
      "metadata": {
        "colab": {
          "base_uri": "https://localhost:8080/",
          "height": 365
        },
        "id": "qZi2_Jn_c7Em",
        "outputId": "81a57920-4d6b-4013-8344-4d0b6ab82c2f"
      },
      "source": [
        "import requests, lxml.html, time, html2text\n",
        "from lxml.cssselect import CSSSelector\n",
        "base_url = \"https://hiroyukidb.net/search/?words=IT\"\n",
        "num_of_pages = 14"
      ],
      "execution_count": null,
      "outputs": [
        {
          "output_type": "error",
          "ename": "ModuleNotFoundError",
          "evalue": "ignored",
          "traceback": [
            "\u001b[0;31m---------------------------------------------------------------------------\u001b[0m",
            "\u001b[0;31mModuleNotFoundError\u001b[0m                       Traceback (most recent call last)",
            "\u001b[0;32m<ipython-input-4-6cd6e3905c43>\u001b[0m in \u001b[0;36m<module>\u001b[0;34m()\u001b[0m\n\u001b[0;32m----> 1\u001b[0;31m \u001b[0;32mimport\u001b[0m \u001b[0mrequests\u001b[0m\u001b[0;34m,\u001b[0m \u001b[0mlxml\u001b[0m\u001b[0;34m.\u001b[0m\u001b[0mhtml\u001b[0m\u001b[0;34m,\u001b[0m \u001b[0mtime\u001b[0m\u001b[0;34m,\u001b[0m \u001b[0mhtml2text\u001b[0m\u001b[0;34m\u001b[0m\u001b[0;34m\u001b[0m\u001b[0m\n\u001b[0m\u001b[1;32m      2\u001b[0m \u001b[0;32mfrom\u001b[0m \u001b[0mlxml\u001b[0m\u001b[0;34m.\u001b[0m\u001b[0mcssselect\u001b[0m \u001b[0;32mimport\u001b[0m \u001b[0mCSSSelector\u001b[0m\u001b[0;34m\u001b[0m\u001b[0;34m\u001b[0m\u001b[0m\n\u001b[1;32m      3\u001b[0m \u001b[0mbase_url\u001b[0m \u001b[0;34m=\u001b[0m \u001b[0;34m\"https://hiroyukidb.net/search/?words=IT\"\u001b[0m\u001b[0;34m\u001b[0m\u001b[0;34m\u001b[0m\u001b[0m\n\u001b[1;32m      4\u001b[0m \u001b[0mnum_of_pages\u001b[0m \u001b[0;34m=\u001b[0m \u001b[0;36m14\u001b[0m\u001b[0;34m\u001b[0m\u001b[0;34m\u001b[0m\u001b[0m\n",
            "\u001b[0;31mModuleNotFoundError\u001b[0m: No module named 'html2text'",
            "",
            "\u001b[0;31m---------------------------------------------------------------------------\u001b[0;32m\nNOTE: If your import is failing due to a missing package, you can\nmanually install dependencies using either !pip or !apt.\n\nTo view examples of installing some common dependencies, click the\n\"Open Examples\" button below.\n\u001b[0;31m---------------------------------------------------------------------------\u001b[0m\n"
          ]
        }
      ]
    },
    {
      "cell_type": "code",
      "metadata": {
        "colab": {
          "base_uri": "https://localhost:8080/",
          "height": 400
        },
        "id": "KuaMh1kzdmlu",
        "outputId": "c6fc1b27-ce9c-4331-a0ac-ec739dd528a6"
      },
      "source": [
        "from selenium import webdriver\n",
        "from selenium.webdriver.common.keys import Keys\n",
        "\n",
        "chrome = webdriver.Chrome(executable_path=\"C:\\Akihiro Yoshimatsu\\chromedriver.exe\")\n",
        "\n",
        "    # グーグルを開く\n",
        "chrome.get(\"https://www.google.com\")\n",
        "\n",
        "chrome.close"
      ],
      "execution_count": null,
      "outputs": [
        {
          "output_type": "error",
          "ename": "ModuleNotFoundError",
          "evalue": "ignored",
          "traceback": [
            "\u001b[0;31m---------------------------------------------------------------------------\u001b[0m",
            "\u001b[0;31mModuleNotFoundError\u001b[0m                       Traceback (most recent call last)",
            "\u001b[0;32m<ipython-input-5-fbd4263740b9>\u001b[0m in \u001b[0;36m<module>\u001b[0;34m()\u001b[0m\n\u001b[0;32m----> 1\u001b[0;31m \u001b[0;32mfrom\u001b[0m \u001b[0mselenium\u001b[0m \u001b[0;32mimport\u001b[0m \u001b[0mwebdriver\u001b[0m\u001b[0;34m\u001b[0m\u001b[0;34m\u001b[0m\u001b[0m\n\u001b[0m\u001b[1;32m      2\u001b[0m \u001b[0;32mfrom\u001b[0m \u001b[0mselenium\u001b[0m\u001b[0;34m.\u001b[0m\u001b[0mwebdriver\u001b[0m\u001b[0;34m.\u001b[0m\u001b[0mcommon\u001b[0m\u001b[0;34m.\u001b[0m\u001b[0mkeys\u001b[0m \u001b[0;32mimport\u001b[0m \u001b[0mKeys\u001b[0m\u001b[0;34m\u001b[0m\u001b[0;34m\u001b[0m\u001b[0m\n\u001b[1;32m      3\u001b[0m \u001b[0;34m\u001b[0m\u001b[0m\n\u001b[1;32m      4\u001b[0m \u001b[0mchrome\u001b[0m \u001b[0;34m=\u001b[0m \u001b[0mwebdriver\u001b[0m\u001b[0;34m.\u001b[0m\u001b[0mChrome\u001b[0m\u001b[0;34m(\u001b[0m\u001b[0mexecutable_path\u001b[0m\u001b[0;34m=\u001b[0m\u001b[0;34m\"C:\\Akihiro Yoshimatsu\\chromedriver.exe\"\u001b[0m\u001b[0;34m)\u001b[0m\u001b[0;34m\u001b[0m\u001b[0;34m\u001b[0m\u001b[0m\n\u001b[1;32m      5\u001b[0m \u001b[0;34m\u001b[0m\u001b[0m\n",
            "\u001b[0;31mModuleNotFoundError\u001b[0m: No module named 'selenium'",
            "",
            "\u001b[0;31m---------------------------------------------------------------------------\u001b[0;32m\nNOTE: If your import is failing due to a missing package, you can\nmanually install dependencies using either !pip or !apt.\n\nTo view examples of installing some common dependencies, click the\n\"Open Examples\" button below.\n\u001b[0;31m---------------------------------------------------------------------------\u001b[0m\n"
          ]
        }
      ]
    },
    {
      "cell_type": "code",
      "metadata": {
        "colab": {
          "base_uri": "https://localhost:8080/"
        },
        "id": "6GhTQr7yepbq",
        "outputId": "a64e7e7a-2a0e-4e75-dc10-7ad1b1ba85bf"
      },
      "source": [
        "pip install selenium"
      ],
      "execution_count": null,
      "outputs": [
        {
          "output_type": "stream",
          "text": [
            "Collecting selenium\n",
            "\u001b[?25l  Downloading https://files.pythonhosted.org/packages/80/d6/4294f0b4bce4de0abf13e17190289f9d0613b0a44e5dd6a7f5ca98459853/selenium-3.141.0-py2.py3-none-any.whl (904kB)\n",
            "\u001b[K     |████████████████████████████████| 911kB 6.7MB/s \n",
            "\u001b[?25hRequirement already satisfied: urllib3 in /usr/local/lib/python3.7/dist-packages (from selenium) (1.24.3)\n",
            "Installing collected packages: selenium\n",
            "Successfully installed selenium-3.141.0\n"
          ],
          "name": "stdout"
        }
      ]
    },
    {
      "cell_type": "code",
      "metadata": {
        "colab": {
          "base_uri": "https://localhost:8080/"
        },
        "id": "hQV2_p1zetho",
        "outputId": "221241d1-68bc-4f02-8368-722aaab7e6a1"
      },
      "source": [
        "pip install chromedriver-binary==91.0.4472.101.0"
      ],
      "execution_count": null,
      "outputs": [
        {
          "output_type": "stream",
          "text": [
            "Collecting chromedriver-binary==91.0.4472.101.0\n",
            "  Downloading https://files.pythonhosted.org/packages/6b/6f/3a5a9eee2fd8b92527359878582b63351c9ea0cb22e554a416f6b3dda763/chromedriver-binary-91.0.4472.101.0.tar.gz\n",
            "Building wheels for collected packages: chromedriver-binary\n",
            "  Building wheel for chromedriver-binary (setup.py) ... \u001b[?25l\u001b[?25hdone\n",
            "  Created wheel for chromedriver-binary: filename=chromedriver_binary-91.0.4472.101.0-cp37-none-any.whl size=5973615 sha256=c0bc425a67f3745a9928c71265b60baa9165e1fe1d5d4f3bc0baac8c17a34081\n",
            "  Stored in directory: /root/.cache/pip/wheels/4e/8b/ab/4d486532bb70a30deeb588283b218c63cd67c893bee3e8b0e8\n",
            "Successfully built chromedriver-binary\n",
            "Installing collected packages: chromedriver-binary\n",
            "Successfully installed chromedriver-binary-91.0.4472.101.0\n"
          ],
          "name": "stdout"
        }
      ]
    },
    {
      "cell_type": "code",
      "metadata": {
        "colab": {
          "base_uri": "https://localhost:8080/",
          "height": 424
        },
        "id": "M_qEfSzlewEo",
        "outputId": "0c773d28-d743-4294-99af-aa8b44c4164d"
      },
      "source": [
        "from selenium import webdriver\n",
        "import chromedriver_binary  # Adds chromedriver binary to path\n",
        "\n",
        "driver = webdriver.Chrome()\n",
        "\n",
        "# グーグルを開く\n",
        "driver.get(\"https://www.google.com\")\n",
        "\n",
        "driver.close"
      ],
      "execution_count": null,
      "outputs": [
        {
          "output_type": "error",
          "ename": "WebDriverException",
          "evalue": "ignored",
          "traceback": [
            "\u001b[0;31m---------------------------------------------------------------------------\u001b[0m",
            "\u001b[0;31mWebDriverException\u001b[0m                        Traceback (most recent call last)",
            "\u001b[0;32m<ipython-input-9-76d64031d9cc>\u001b[0m in \u001b[0;36m<module>\u001b[0;34m()\u001b[0m\n\u001b[1;32m      2\u001b[0m \u001b[0;32mimport\u001b[0m \u001b[0mchromedriver_binary\u001b[0m  \u001b[0;31m# Adds chromedriver binary to path\u001b[0m\u001b[0;34m\u001b[0m\u001b[0;34m\u001b[0m\u001b[0m\n\u001b[1;32m      3\u001b[0m \u001b[0;34m\u001b[0m\u001b[0m\n\u001b[0;32m----> 4\u001b[0;31m \u001b[0mdriver\u001b[0m \u001b[0;34m=\u001b[0m \u001b[0mwebdriver\u001b[0m\u001b[0;34m.\u001b[0m\u001b[0mChrome\u001b[0m\u001b[0;34m(\u001b[0m\u001b[0;34m)\u001b[0m\u001b[0;34m\u001b[0m\u001b[0;34m\u001b[0m\u001b[0m\n\u001b[0m\u001b[1;32m      5\u001b[0m \u001b[0;34m\u001b[0m\u001b[0m\n\u001b[1;32m      6\u001b[0m \u001b[0;31m# グーグルを開く\u001b[0m\u001b[0;34m\u001b[0m\u001b[0;34m\u001b[0m\u001b[0;34m\u001b[0m\u001b[0m\n",
            "\u001b[0;32m/usr/local/lib/python3.7/dist-packages/selenium/webdriver/chrome/webdriver.py\u001b[0m in \u001b[0;36m__init__\u001b[0;34m(self, executable_path, port, options, service_args, desired_capabilities, service_log_path, chrome_options, keep_alive)\u001b[0m\n\u001b[1;32m     71\u001b[0m             \u001b[0mservice_args\u001b[0m\u001b[0;34m=\u001b[0m\u001b[0mservice_args\u001b[0m\u001b[0;34m,\u001b[0m\u001b[0;34m\u001b[0m\u001b[0;34m\u001b[0m\u001b[0m\n\u001b[1;32m     72\u001b[0m             log_path=service_log_path)\n\u001b[0;32m---> 73\u001b[0;31m         \u001b[0mself\u001b[0m\u001b[0;34m.\u001b[0m\u001b[0mservice\u001b[0m\u001b[0;34m.\u001b[0m\u001b[0mstart\u001b[0m\u001b[0;34m(\u001b[0m\u001b[0;34m)\u001b[0m\u001b[0;34m\u001b[0m\u001b[0;34m\u001b[0m\u001b[0m\n\u001b[0m\u001b[1;32m     74\u001b[0m \u001b[0;34m\u001b[0m\u001b[0m\n\u001b[1;32m     75\u001b[0m         \u001b[0;32mtry\u001b[0m\u001b[0;34m:\u001b[0m\u001b[0;34m\u001b[0m\u001b[0;34m\u001b[0m\u001b[0m\n",
            "\u001b[0;32m/usr/local/lib/python3.7/dist-packages/selenium/webdriver/common/service.py\u001b[0m in \u001b[0;36mstart\u001b[0;34m(self)\u001b[0m\n\u001b[1;32m     96\u001b[0m         \u001b[0mcount\u001b[0m \u001b[0;34m=\u001b[0m \u001b[0;36m0\u001b[0m\u001b[0;34m\u001b[0m\u001b[0;34m\u001b[0m\u001b[0m\n\u001b[1;32m     97\u001b[0m         \u001b[0;32mwhile\u001b[0m \u001b[0;32mTrue\u001b[0m\u001b[0;34m:\u001b[0m\u001b[0;34m\u001b[0m\u001b[0;34m\u001b[0m\u001b[0m\n\u001b[0;32m---> 98\u001b[0;31m             \u001b[0mself\u001b[0m\u001b[0;34m.\u001b[0m\u001b[0massert_process_still_running\u001b[0m\u001b[0;34m(\u001b[0m\u001b[0;34m)\u001b[0m\u001b[0;34m\u001b[0m\u001b[0;34m\u001b[0m\u001b[0m\n\u001b[0m\u001b[1;32m     99\u001b[0m             \u001b[0;32mif\u001b[0m \u001b[0mself\u001b[0m\u001b[0;34m.\u001b[0m\u001b[0mis_connectable\u001b[0m\u001b[0;34m(\u001b[0m\u001b[0;34m)\u001b[0m\u001b[0;34m:\u001b[0m\u001b[0;34m\u001b[0m\u001b[0;34m\u001b[0m\u001b[0m\n\u001b[1;32m    100\u001b[0m                 \u001b[0;32mbreak\u001b[0m\u001b[0;34m\u001b[0m\u001b[0;34m\u001b[0m\u001b[0m\n",
            "\u001b[0;32m/usr/local/lib/python3.7/dist-packages/selenium/webdriver/common/service.py\u001b[0m in \u001b[0;36massert_process_still_running\u001b[0;34m(self)\u001b[0m\n\u001b[1;32m    109\u001b[0m             raise WebDriverException(\n\u001b[1;32m    110\u001b[0m                 \u001b[0;34m'Service %s unexpectedly exited. Status code was: %s'\u001b[0m\u001b[0;34m\u001b[0m\u001b[0;34m\u001b[0m\u001b[0m\n\u001b[0;32m--> 111\u001b[0;31m                 \u001b[0;34m%\u001b[0m \u001b[0;34m(\u001b[0m\u001b[0mself\u001b[0m\u001b[0;34m.\u001b[0m\u001b[0mpath\u001b[0m\u001b[0;34m,\u001b[0m \u001b[0mreturn_code\u001b[0m\u001b[0;34m)\u001b[0m\u001b[0;34m\u001b[0m\u001b[0;34m\u001b[0m\u001b[0m\n\u001b[0m\u001b[1;32m    112\u001b[0m             )\n\u001b[1;32m    113\u001b[0m \u001b[0;34m\u001b[0m\u001b[0m\n",
            "\u001b[0;31mWebDriverException\u001b[0m: Message: Service chromedriver unexpectedly exited. Status code was: -6\n"
          ]
        }
      ]
    },
    {
      "cell_type": "code",
      "metadata": {
        "colab": {
          "base_uri": "https://localhost:8080/",
          "height": 189
        },
        "id": "qrgdvntyfrPI",
        "outputId": "466e6357-7c93-4f90-ed90-e8235b1ba9b5"
      },
      "source": [
        ""
      ],
      "execution_count": null,
      "outputs": [
        {
          "output_type": "error",
          "ename": "FileNotFoundError",
          "evalue": "ignored",
          "traceback": [
            "\u001b[0;31m---------------------------------------------------------------------------\u001b[0m",
            "\u001b[0;31mFileNotFoundError\u001b[0m                         Traceback (most recent call last)",
            "\u001b[0;32m<ipython-input-5-13d0b8cdd7aa>\u001b[0m in \u001b[0;36m<module>\u001b[0;34m()\u001b[0m\n\u001b[1;32m      1\u001b[0m \u001b[0;32mimport\u001b[0m \u001b[0mos\u001b[0m\u001b[0;34m\u001b[0m\u001b[0;34m\u001b[0m\u001b[0m\n\u001b[0;32m----> 2\u001b[0;31m \u001b[0mos\u001b[0m\u001b[0;34m.\u001b[0m\u001b[0mremove\u001b[0m\u001b[0;34m(\u001b[0m\u001b[0;34m'./content/chromedriver.exe'\u001b[0m\u001b[0;34m)\u001b[0m\u001b[0;34m\u001b[0m\u001b[0;34m\u001b[0m\u001b[0m\n\u001b[0m",
            "\u001b[0;31mFileNotFoundError\u001b[0m: [Errno 2] No such file or directory: './content/chromedriver.exe'"
          ]
        }
      ]
    },
    {
      "cell_type": "code",
      "metadata": {
        "id": "sQRWpxq2ibwB",
        "colab": {
          "base_uri": "https://localhost:8080/"
        },
        "outputId": "3df1b210-bb79-496c-9cb6-f95936fc7498"
      },
      "source": [
        "pip install selenium"
      ],
      "execution_count": null,
      "outputs": [
        {
          "output_type": "stream",
          "text": [
            "Requirement already satisfied: selenium in /usr/local/lib/python3.7/dist-packages (3.141.0)\n",
            "Requirement already satisfied: urllib3 in /usr/local/lib/python3.7/dist-packages (from selenium) (1.24.3)\n"
          ],
          "name": "stdout"
        }
      ]
    },
    {
      "cell_type": "code",
      "metadata": {
        "colab": {
          "base_uri": "https://localhost:8080/",
          "height": 532
        },
        "id": "l6nptRpzntej",
        "outputId": "d860fcd1-51bd-482b-a637-0c90737f5a34"
      },
      "source": [
        "import selenium.webdriver\n",
        "driver = selenium.webdriver.PhantomJS()"
      ],
      "execution_count": null,
      "outputs": [
        {
          "output_type": "stream",
          "text": [
            "/usr/local/lib/python3.7/dist-packages/selenium/webdriver/phantomjs/webdriver.py:49: UserWarning: Selenium support for PhantomJS has been deprecated, please use headless versions of Chrome or Firefox instead\n",
            "  warnings.warn('Selenium support for PhantomJS has been deprecated, please use headless '\n"
          ],
          "name": "stderr"
        },
        {
          "output_type": "error",
          "ename": "WebDriverException",
          "evalue": "ignored",
          "traceback": [
            "\u001b[0;31m---------------------------------------------------------------------------\u001b[0m",
            "\u001b[0;31mFileNotFoundError\u001b[0m                         Traceback (most recent call last)",
            "\u001b[0;32m/usr/local/lib/python3.7/dist-packages/selenium/webdriver/common/service.py\u001b[0m in \u001b[0;36mstart\u001b[0;34m(self)\u001b[0m\n\u001b[1;32m     75\u001b[0m                                             \u001b[0mstderr\u001b[0m\u001b[0;34m=\u001b[0m\u001b[0mself\u001b[0m\u001b[0;34m.\u001b[0m\u001b[0mlog_file\u001b[0m\u001b[0;34m,\u001b[0m\u001b[0;34m\u001b[0m\u001b[0;34m\u001b[0m\u001b[0m\n\u001b[0;32m---> 76\u001b[0;31m                                             stdin=PIPE)\n\u001b[0m\u001b[1;32m     77\u001b[0m         \u001b[0;32mexcept\u001b[0m \u001b[0mTypeError\u001b[0m\u001b[0;34m:\u001b[0m\u001b[0;34m\u001b[0m\u001b[0;34m\u001b[0m\u001b[0m\n",
            "\u001b[0;32m/usr/lib/python3.7/subprocess.py\u001b[0m in \u001b[0;36m__init__\u001b[0;34m(self, args, bufsize, executable, stdin, stdout, stderr, preexec_fn, close_fds, shell, cwd, env, universal_newlines, startupinfo, creationflags, restore_signals, start_new_session, pass_fds, encoding, errors, text)\u001b[0m\n\u001b[1;32m    799\u001b[0m                                 \u001b[0merrread\u001b[0m\u001b[0;34m,\u001b[0m \u001b[0merrwrite\u001b[0m\u001b[0;34m,\u001b[0m\u001b[0;34m\u001b[0m\u001b[0;34m\u001b[0m\u001b[0m\n\u001b[0;32m--> 800\u001b[0;31m                                 restore_signals, start_new_session)\n\u001b[0m\u001b[1;32m    801\u001b[0m         \u001b[0;32mexcept\u001b[0m\u001b[0;34m:\u001b[0m\u001b[0;34m\u001b[0m\u001b[0;34m\u001b[0m\u001b[0m\n",
            "\u001b[0;32m/usr/lib/python3.7/subprocess.py\u001b[0m in \u001b[0;36m_execute_child\u001b[0;34m(self, args, executable, preexec_fn, close_fds, pass_fds, cwd, env, startupinfo, creationflags, shell, p2cread, p2cwrite, c2pread, c2pwrite, errread, errwrite, restore_signals, start_new_session)\u001b[0m\n\u001b[1;32m   1550\u001b[0m                             \u001b[0merr_msg\u001b[0m \u001b[0;34m+=\u001b[0m \u001b[0;34m': '\u001b[0m \u001b[0;34m+\u001b[0m \u001b[0mrepr\u001b[0m\u001b[0;34m(\u001b[0m\u001b[0merr_filename\u001b[0m\u001b[0;34m)\u001b[0m\u001b[0;34m\u001b[0m\u001b[0;34m\u001b[0m\u001b[0m\n\u001b[0;32m-> 1551\u001b[0;31m                     \u001b[0;32mraise\u001b[0m \u001b[0mchild_exception_type\u001b[0m\u001b[0;34m(\u001b[0m\u001b[0merrno_num\u001b[0m\u001b[0;34m,\u001b[0m \u001b[0merr_msg\u001b[0m\u001b[0;34m,\u001b[0m \u001b[0merr_filename\u001b[0m\u001b[0;34m)\u001b[0m\u001b[0;34m\u001b[0m\u001b[0;34m\u001b[0m\u001b[0m\n\u001b[0m\u001b[1;32m   1552\u001b[0m                 \u001b[0;32mraise\u001b[0m \u001b[0mchild_exception_type\u001b[0m\u001b[0;34m(\u001b[0m\u001b[0merr_msg\u001b[0m\u001b[0;34m)\u001b[0m\u001b[0;34m\u001b[0m\u001b[0;34m\u001b[0m\u001b[0m\n",
            "\u001b[0;31mFileNotFoundError\u001b[0m: [Errno 2] No such file or directory: 'phantomjs': 'phantomjs'",
            "\nDuring handling of the above exception, another exception occurred:\n",
            "\u001b[0;31mWebDriverException\u001b[0m                        Traceback (most recent call last)",
            "\u001b[0;32m<ipython-input-15-4764bc4cfaf7>\u001b[0m in \u001b[0;36m<module>\u001b[0;34m()\u001b[0m\n\u001b[1;32m      1\u001b[0m \u001b[0;32mimport\u001b[0m \u001b[0mselenium\u001b[0m\u001b[0;34m.\u001b[0m\u001b[0mwebdriver\u001b[0m\u001b[0;34m\u001b[0m\u001b[0;34m\u001b[0m\u001b[0m\n\u001b[0;32m----> 2\u001b[0;31m \u001b[0mdriver\u001b[0m \u001b[0;34m=\u001b[0m \u001b[0mselenium\u001b[0m\u001b[0;34m.\u001b[0m\u001b[0mwebdriver\u001b[0m\u001b[0;34m.\u001b[0m\u001b[0mPhantomJS\u001b[0m\u001b[0;34m(\u001b[0m\u001b[0;34m)\u001b[0m\u001b[0;34m\u001b[0m\u001b[0;34m\u001b[0m\u001b[0m\n\u001b[0m",
            "\u001b[0;32m/usr/local/lib/python3.7/dist-packages/selenium/webdriver/phantomjs/webdriver.py\u001b[0m in \u001b[0;36m__init__\u001b[0;34m(self, executable_path, port, desired_capabilities, service_args, service_log_path)\u001b[0m\n\u001b[1;32m     54\u001b[0m             \u001b[0mservice_args\u001b[0m\u001b[0;34m=\u001b[0m\u001b[0mservice_args\u001b[0m\u001b[0;34m,\u001b[0m\u001b[0;34m\u001b[0m\u001b[0;34m\u001b[0m\u001b[0m\n\u001b[1;32m     55\u001b[0m             log_path=service_log_path)\n\u001b[0;32m---> 56\u001b[0;31m         \u001b[0mself\u001b[0m\u001b[0;34m.\u001b[0m\u001b[0mservice\u001b[0m\u001b[0;34m.\u001b[0m\u001b[0mstart\u001b[0m\u001b[0;34m(\u001b[0m\u001b[0;34m)\u001b[0m\u001b[0;34m\u001b[0m\u001b[0;34m\u001b[0m\u001b[0m\n\u001b[0m\u001b[1;32m     57\u001b[0m \u001b[0;34m\u001b[0m\u001b[0m\n\u001b[1;32m     58\u001b[0m         \u001b[0;32mtry\u001b[0m\u001b[0;34m:\u001b[0m\u001b[0;34m\u001b[0m\u001b[0;34m\u001b[0m\u001b[0m\n",
            "\u001b[0;32m/usr/local/lib/python3.7/dist-packages/selenium/webdriver/common/service.py\u001b[0m in \u001b[0;36mstart\u001b[0;34m(self)\u001b[0m\n\u001b[1;32m     81\u001b[0m                 raise WebDriverException(\n\u001b[1;32m     82\u001b[0m                     \"'%s' executable needs to be in PATH. %s\" % (\n\u001b[0;32m---> 83\u001b[0;31m                         os.path.basename(self.path), self.start_error_message)\n\u001b[0m\u001b[1;32m     84\u001b[0m                 )\n\u001b[1;32m     85\u001b[0m             \u001b[0;32melif\u001b[0m \u001b[0merr\u001b[0m\u001b[0;34m.\u001b[0m\u001b[0merrno\u001b[0m \u001b[0;34m==\u001b[0m \u001b[0merrno\u001b[0m\u001b[0;34m.\u001b[0m\u001b[0mEACCES\u001b[0m\u001b[0;34m:\u001b[0m\u001b[0;34m\u001b[0m\u001b[0;34m\u001b[0m\u001b[0m\n",
            "\u001b[0;31mWebDriverException\u001b[0m: Message: 'phantomjs' executable needs to be in PATH. \n"
          ]
        }
      ]
    },
    {
      "cell_type": "code",
      "metadata": {
        "colab": {
          "base_uri": "https://localhost:8080/"
        },
        "id": "bRIMo2AZn9_A",
        "outputId": "3632735b-7fb6-4977-9adc-0bbd54fa63a9"
      },
      "source": [
        "import os\n",
        "cwd = os.getcwd()\n",
        "print(cwd)"
      ],
      "execution_count": null,
      "outputs": [
        {
          "output_type": "stream",
          "text": [
            "/content\n"
          ],
          "name": "stdout"
        }
      ]
    },
    {
      "cell_type": "code",
      "metadata": {
        "id": "79xUMfXzoMrK",
        "colab": {
          "base_uri": "https://localhost:8080/"
        },
        "outputId": "d52ffd6c-0dc8-4654-a023-f6471edecb99"
      },
      "source": [
        "pip install beautifulsoup4"
      ],
      "execution_count": null,
      "outputs": [
        {
          "output_type": "stream",
          "text": [
            "Requirement already satisfied: beautifulsoup4 in /usr/local/lib/python3.7/dist-packages (4.6.3)\n"
          ],
          "name": "stdout"
        }
      ]
    },
    {
      "cell_type": "code",
      "metadata": {
        "colab": {
          "base_uri": "https://localhost:8080/",
          "height": 424
        },
        "id": "KCuYOHu2NYL9",
        "outputId": "91ba431b-2ae5-43a3-eb8e-1e0b43dfa4ab"
      },
      "source": [
        "from bs4 import BeautifulSoup    # importする\n",
        "#soup = BeautifulSoup(html.content, \"html.parser\")    # HTMLを解析する\n",
        "\n",
        "import requests\n",
        "from bs4 import BeautifulSoup\n",
        "# Webページを取得して解析する\n",
        "\n",
        "load_url = \"/content/hiroyukiDB_IT.html\"\n",
        "html = requests.get(load_url)\n",
        "soup = BeautifulSoup(html.content, \"html.parser\")\n",
        "\n",
        "# title、h2、liタグを検索して表示する\n",
        "print(soup.find(\"title\"))    # タグを検索して表示\n",
        "print(soup.find(\"h3\"))\n",
        "#print(soup.find(\"li\"))\n",
        "print(soup.find(id='serach_result')) \n",
        "print(soup.text)"
      ],
      "execution_count": null,
      "outputs": [
        {
          "output_type": "error",
          "ename": "MissingSchema",
          "evalue": "ignored",
          "traceback": [
            "\u001b[0;31m---------------------------------------------------------------------------\u001b[0m",
            "\u001b[0;31mMissingSchema\u001b[0m                             Traceback (most recent call last)",
            "\u001b[0;32m<ipython-input-5-8b4bd64cbd65>\u001b[0m in \u001b[0;36m<module>\u001b[0;34m()\u001b[0m\n\u001b[1;32m      7\u001b[0m \u001b[0;34m\u001b[0m\u001b[0m\n\u001b[1;32m      8\u001b[0m \u001b[0mload_url\u001b[0m \u001b[0;34m=\u001b[0m \u001b[0;34m\"/content/hiroyukiDB_IT.html\"\u001b[0m\u001b[0;34m\u001b[0m\u001b[0;34m\u001b[0m\u001b[0m\n\u001b[0;32m----> 9\u001b[0;31m \u001b[0mhtml\u001b[0m \u001b[0;34m=\u001b[0m \u001b[0mrequests\u001b[0m\u001b[0;34m.\u001b[0m\u001b[0mget\u001b[0m\u001b[0;34m(\u001b[0m\u001b[0mload_url\u001b[0m\u001b[0;34m)\u001b[0m\u001b[0;34m\u001b[0m\u001b[0;34m\u001b[0m\u001b[0m\n\u001b[0m\u001b[1;32m     10\u001b[0m \u001b[0msoup\u001b[0m \u001b[0;34m=\u001b[0m \u001b[0mBeautifulSoup\u001b[0m\u001b[0;34m(\u001b[0m\u001b[0mhtml\u001b[0m\u001b[0;34m.\u001b[0m\u001b[0mcontent\u001b[0m\u001b[0;34m,\u001b[0m \u001b[0;34m\"html.parser\"\u001b[0m\u001b[0;34m)\u001b[0m\u001b[0;34m\u001b[0m\u001b[0;34m\u001b[0m\u001b[0m\n\u001b[1;32m     11\u001b[0m \u001b[0;34m\u001b[0m\u001b[0m\n",
            "\u001b[0;32m/usr/local/lib/python3.7/dist-packages/requests/api.py\u001b[0m in \u001b[0;36mget\u001b[0;34m(url, params, **kwargs)\u001b[0m\n\u001b[1;32m     74\u001b[0m \u001b[0;34m\u001b[0m\u001b[0m\n\u001b[1;32m     75\u001b[0m     \u001b[0mkwargs\u001b[0m\u001b[0;34m.\u001b[0m\u001b[0msetdefault\u001b[0m\u001b[0;34m(\u001b[0m\u001b[0;34m'allow_redirects'\u001b[0m\u001b[0;34m,\u001b[0m \u001b[0;32mTrue\u001b[0m\u001b[0;34m)\u001b[0m\u001b[0;34m\u001b[0m\u001b[0;34m\u001b[0m\u001b[0m\n\u001b[0;32m---> 76\u001b[0;31m     \u001b[0;32mreturn\u001b[0m \u001b[0mrequest\u001b[0m\u001b[0;34m(\u001b[0m\u001b[0;34m'get'\u001b[0m\u001b[0;34m,\u001b[0m \u001b[0murl\u001b[0m\u001b[0;34m,\u001b[0m \u001b[0mparams\u001b[0m\u001b[0;34m=\u001b[0m\u001b[0mparams\u001b[0m\u001b[0;34m,\u001b[0m \u001b[0;34m**\u001b[0m\u001b[0mkwargs\u001b[0m\u001b[0;34m)\u001b[0m\u001b[0;34m\u001b[0m\u001b[0;34m\u001b[0m\u001b[0m\n\u001b[0m\u001b[1;32m     77\u001b[0m \u001b[0;34m\u001b[0m\u001b[0m\n\u001b[1;32m     78\u001b[0m \u001b[0;34m\u001b[0m\u001b[0m\n",
            "\u001b[0;32m/usr/local/lib/python3.7/dist-packages/requests/api.py\u001b[0m in \u001b[0;36mrequest\u001b[0;34m(method, url, **kwargs)\u001b[0m\n\u001b[1;32m     59\u001b[0m     \u001b[0;31m# cases, and look like a memory leak in others.\u001b[0m\u001b[0;34m\u001b[0m\u001b[0;34m\u001b[0m\u001b[0;34m\u001b[0m\u001b[0m\n\u001b[1;32m     60\u001b[0m     \u001b[0;32mwith\u001b[0m \u001b[0msessions\u001b[0m\u001b[0;34m.\u001b[0m\u001b[0mSession\u001b[0m\u001b[0;34m(\u001b[0m\u001b[0;34m)\u001b[0m \u001b[0;32mas\u001b[0m \u001b[0msession\u001b[0m\u001b[0;34m:\u001b[0m\u001b[0;34m\u001b[0m\u001b[0;34m\u001b[0m\u001b[0m\n\u001b[0;32m---> 61\u001b[0;31m         \u001b[0;32mreturn\u001b[0m \u001b[0msession\u001b[0m\u001b[0;34m.\u001b[0m\u001b[0mrequest\u001b[0m\u001b[0;34m(\u001b[0m\u001b[0mmethod\u001b[0m\u001b[0;34m=\u001b[0m\u001b[0mmethod\u001b[0m\u001b[0;34m,\u001b[0m \u001b[0murl\u001b[0m\u001b[0;34m=\u001b[0m\u001b[0murl\u001b[0m\u001b[0;34m,\u001b[0m \u001b[0;34m**\u001b[0m\u001b[0mkwargs\u001b[0m\u001b[0;34m)\u001b[0m\u001b[0;34m\u001b[0m\u001b[0;34m\u001b[0m\u001b[0m\n\u001b[0m\u001b[1;32m     62\u001b[0m \u001b[0;34m\u001b[0m\u001b[0m\n\u001b[1;32m     63\u001b[0m \u001b[0;34m\u001b[0m\u001b[0m\n",
            "\u001b[0;32m/usr/local/lib/python3.7/dist-packages/requests/sessions.py\u001b[0m in \u001b[0;36mrequest\u001b[0;34m(self, method, url, params, data, headers, cookies, files, auth, timeout, allow_redirects, proxies, hooks, stream, verify, cert, json)\u001b[0m\n\u001b[1;32m    514\u001b[0m             \u001b[0mhooks\u001b[0m\u001b[0;34m=\u001b[0m\u001b[0mhooks\u001b[0m\u001b[0;34m,\u001b[0m\u001b[0;34m\u001b[0m\u001b[0;34m\u001b[0m\u001b[0m\n\u001b[1;32m    515\u001b[0m         )\n\u001b[0;32m--> 516\u001b[0;31m         \u001b[0mprep\u001b[0m \u001b[0;34m=\u001b[0m \u001b[0mself\u001b[0m\u001b[0;34m.\u001b[0m\u001b[0mprepare_request\u001b[0m\u001b[0;34m(\u001b[0m\u001b[0mreq\u001b[0m\u001b[0;34m)\u001b[0m\u001b[0;34m\u001b[0m\u001b[0;34m\u001b[0m\u001b[0m\n\u001b[0m\u001b[1;32m    517\u001b[0m \u001b[0;34m\u001b[0m\u001b[0m\n\u001b[1;32m    518\u001b[0m         \u001b[0mproxies\u001b[0m \u001b[0;34m=\u001b[0m \u001b[0mproxies\u001b[0m \u001b[0;32mor\u001b[0m \u001b[0;34m{\u001b[0m\u001b[0;34m}\u001b[0m\u001b[0;34m\u001b[0m\u001b[0;34m\u001b[0m\u001b[0m\n",
            "\u001b[0;32m/usr/local/lib/python3.7/dist-packages/requests/sessions.py\u001b[0m in \u001b[0;36mprepare_request\u001b[0;34m(self, request)\u001b[0m\n\u001b[1;32m    457\u001b[0m             \u001b[0mauth\u001b[0m\u001b[0;34m=\u001b[0m\u001b[0mmerge_setting\u001b[0m\u001b[0;34m(\u001b[0m\u001b[0mauth\u001b[0m\u001b[0;34m,\u001b[0m \u001b[0mself\u001b[0m\u001b[0;34m.\u001b[0m\u001b[0mauth\u001b[0m\u001b[0;34m)\u001b[0m\u001b[0;34m,\u001b[0m\u001b[0;34m\u001b[0m\u001b[0;34m\u001b[0m\u001b[0m\n\u001b[1;32m    458\u001b[0m             \u001b[0mcookies\u001b[0m\u001b[0;34m=\u001b[0m\u001b[0mmerged_cookies\u001b[0m\u001b[0;34m,\u001b[0m\u001b[0;34m\u001b[0m\u001b[0;34m\u001b[0m\u001b[0m\n\u001b[0;32m--> 459\u001b[0;31m             \u001b[0mhooks\u001b[0m\u001b[0;34m=\u001b[0m\u001b[0mmerge_hooks\u001b[0m\u001b[0;34m(\u001b[0m\u001b[0mrequest\u001b[0m\u001b[0;34m.\u001b[0m\u001b[0mhooks\u001b[0m\u001b[0;34m,\u001b[0m \u001b[0mself\u001b[0m\u001b[0;34m.\u001b[0m\u001b[0mhooks\u001b[0m\u001b[0;34m)\u001b[0m\u001b[0;34m,\u001b[0m\u001b[0;34m\u001b[0m\u001b[0;34m\u001b[0m\u001b[0m\n\u001b[0m\u001b[1;32m    460\u001b[0m         )\n\u001b[1;32m    461\u001b[0m         \u001b[0;32mreturn\u001b[0m \u001b[0mp\u001b[0m\u001b[0;34m\u001b[0m\u001b[0;34m\u001b[0m\u001b[0m\n",
            "\u001b[0;32m/usr/local/lib/python3.7/dist-packages/requests/models.py\u001b[0m in \u001b[0;36mprepare\u001b[0;34m(self, method, url, headers, files, data, params, auth, cookies, hooks, json)\u001b[0m\n\u001b[1;32m    312\u001b[0m \u001b[0;34m\u001b[0m\u001b[0m\n\u001b[1;32m    313\u001b[0m         \u001b[0mself\u001b[0m\u001b[0;34m.\u001b[0m\u001b[0mprepare_method\u001b[0m\u001b[0;34m(\u001b[0m\u001b[0mmethod\u001b[0m\u001b[0;34m)\u001b[0m\u001b[0;34m\u001b[0m\u001b[0;34m\u001b[0m\u001b[0m\n\u001b[0;32m--> 314\u001b[0;31m         \u001b[0mself\u001b[0m\u001b[0;34m.\u001b[0m\u001b[0mprepare_url\u001b[0m\u001b[0;34m(\u001b[0m\u001b[0murl\u001b[0m\u001b[0;34m,\u001b[0m \u001b[0mparams\u001b[0m\u001b[0;34m)\u001b[0m\u001b[0;34m\u001b[0m\u001b[0;34m\u001b[0m\u001b[0m\n\u001b[0m\u001b[1;32m    315\u001b[0m         \u001b[0mself\u001b[0m\u001b[0;34m.\u001b[0m\u001b[0mprepare_headers\u001b[0m\u001b[0;34m(\u001b[0m\u001b[0mheaders\u001b[0m\u001b[0;34m)\u001b[0m\u001b[0;34m\u001b[0m\u001b[0;34m\u001b[0m\u001b[0m\n\u001b[1;32m    316\u001b[0m         \u001b[0mself\u001b[0m\u001b[0;34m.\u001b[0m\u001b[0mprepare_cookies\u001b[0m\u001b[0;34m(\u001b[0m\u001b[0mcookies\u001b[0m\u001b[0;34m)\u001b[0m\u001b[0;34m\u001b[0m\u001b[0;34m\u001b[0m\u001b[0m\n",
            "\u001b[0;32m/usr/local/lib/python3.7/dist-packages/requests/models.py\u001b[0m in \u001b[0;36mprepare_url\u001b[0;34m(self, url, params)\u001b[0m\n\u001b[1;32m    386\u001b[0m             \u001b[0merror\u001b[0m \u001b[0;34m=\u001b[0m \u001b[0merror\u001b[0m\u001b[0;34m.\u001b[0m\u001b[0mformat\u001b[0m\u001b[0;34m(\u001b[0m\u001b[0mto_native_string\u001b[0m\u001b[0;34m(\u001b[0m\u001b[0murl\u001b[0m\u001b[0;34m,\u001b[0m \u001b[0;34m'utf8'\u001b[0m\u001b[0;34m)\u001b[0m\u001b[0;34m)\u001b[0m\u001b[0;34m\u001b[0m\u001b[0;34m\u001b[0m\u001b[0m\n\u001b[1;32m    387\u001b[0m \u001b[0;34m\u001b[0m\u001b[0m\n\u001b[0;32m--> 388\u001b[0;31m             \u001b[0;32mraise\u001b[0m \u001b[0mMissingSchema\u001b[0m\u001b[0;34m(\u001b[0m\u001b[0merror\u001b[0m\u001b[0;34m)\u001b[0m\u001b[0;34m\u001b[0m\u001b[0;34m\u001b[0m\u001b[0m\n\u001b[0m\u001b[1;32m    389\u001b[0m \u001b[0;34m\u001b[0m\u001b[0m\n\u001b[1;32m    390\u001b[0m         \u001b[0;32mif\u001b[0m \u001b[0;32mnot\u001b[0m \u001b[0mhost\u001b[0m\u001b[0;34m:\u001b[0m\u001b[0;34m\u001b[0m\u001b[0;34m\u001b[0m\u001b[0m\n",
            "\u001b[0;31mMissingSchema\u001b[0m: Invalid URL '/content/hiroyukiDB_IT.html': No schema supplied. Perhaps you meant http:///content/hiroyukiDB_IT.html?"
          ]
        }
      ]
    },
    {
      "cell_type": "code",
      "metadata": {
        "id": "Fo5PLXoVNdEp",
        "colab": {
          "base_uri": "https://localhost:8080/"
        },
        "outputId": "de62fbd0-5632-4e7e-f0b3-25c41b8f1bb8"
      },
      "source": [
        "pip install selenium"
      ],
      "execution_count": null,
      "outputs": [
        {
          "output_type": "stream",
          "text": [
            "Collecting selenium\n",
            "\u001b[?25l  Downloading https://files.pythonhosted.org/packages/80/d6/4294f0b4bce4de0abf13e17190289f9d0613b0a44e5dd6a7f5ca98459853/selenium-3.141.0-py2.py3-none-any.whl (904kB)\n",
            "\r\u001b[K     |▍                               | 10kB 15.0MB/s eta 0:00:01\r\u001b[K     |▊                               | 20kB 15.0MB/s eta 0:00:01\r\u001b[K     |█                               | 30kB 10.9MB/s eta 0:00:01\r\u001b[K     |█▌                              | 40kB 9.3MB/s eta 0:00:01\r\u001b[K     |█▉                              | 51kB 5.3MB/s eta 0:00:01\r\u001b[K     |██▏                             | 61kB 5.5MB/s eta 0:00:01\r\u001b[K     |██▌                             | 71kB 6.0MB/s eta 0:00:01\r\u001b[K     |███                             | 81kB 6.4MB/s eta 0:00:01\r\u001b[K     |███▎                            | 92kB 6.1MB/s eta 0:00:01\r\u001b[K     |███▋                            | 102kB 4.9MB/s eta 0:00:01\r\u001b[K     |████                            | 112kB 4.9MB/s eta 0:00:01\r\u001b[K     |████▍                           | 122kB 4.9MB/s eta 0:00:01\r\u001b[K     |████▊                           | 133kB 4.9MB/s eta 0:00:01\r\u001b[K     |█████                           | 143kB 4.9MB/s eta 0:00:01\r\u001b[K     |█████▍                          | 153kB 4.9MB/s eta 0:00:01\r\u001b[K     |█████▉                          | 163kB 4.9MB/s eta 0:00:01\r\u001b[K     |██████▏                         | 174kB 4.9MB/s eta 0:00:01\r\u001b[K     |██████▌                         | 184kB 4.9MB/s eta 0:00:01\r\u001b[K     |██████▉                         | 194kB 4.9MB/s eta 0:00:01\r\u001b[K     |███████▎                        | 204kB 4.9MB/s eta 0:00:01\r\u001b[K     |███████▋                        | 215kB 4.9MB/s eta 0:00:01\r\u001b[K     |████████                        | 225kB 4.9MB/s eta 0:00:01\r\u001b[K     |████████▎                       | 235kB 4.9MB/s eta 0:00:01\r\u001b[K     |████████▊                       | 245kB 4.9MB/s eta 0:00:01\r\u001b[K     |█████████                       | 256kB 4.9MB/s eta 0:00:01\r\u001b[K     |█████████▍                      | 266kB 4.9MB/s eta 0:00:01\r\u001b[K     |█████████▉                      | 276kB 4.9MB/s eta 0:00:01\r\u001b[K     |██████████▏                     | 286kB 4.9MB/s eta 0:00:01\r\u001b[K     |██████████▌                     | 296kB 4.9MB/s eta 0:00:01\r\u001b[K     |██████████▉                     | 307kB 4.9MB/s eta 0:00:01\r\u001b[K     |███████████▎                    | 317kB 4.9MB/s eta 0:00:01\r\u001b[K     |███████████▋                    | 327kB 4.9MB/s eta 0:00:01\r\u001b[K     |████████████                    | 337kB 4.9MB/s eta 0:00:01\r\u001b[K     |████████████▎                   | 348kB 4.9MB/s eta 0:00:01\r\u001b[K     |████████████▊                   | 358kB 4.9MB/s eta 0:00:01\r\u001b[K     |█████████████                   | 368kB 4.9MB/s eta 0:00:01\r\u001b[K     |█████████████▍                  | 378kB 4.9MB/s eta 0:00:01\r\u001b[K     |█████████████▊                  | 389kB 4.9MB/s eta 0:00:01\r\u001b[K     |██████████████▏                 | 399kB 4.9MB/s eta 0:00:01\r\u001b[K     |██████████████▌                 | 409kB 4.9MB/s eta 0:00:01\r\u001b[K     |██████████████▉                 | 419kB 4.9MB/s eta 0:00:01\r\u001b[K     |███████████████▏                | 430kB 4.9MB/s eta 0:00:01\r\u001b[K     |███████████████▋                | 440kB 4.9MB/s eta 0:00:01\r\u001b[K     |████████████████                | 450kB 4.9MB/s eta 0:00:01\r\u001b[K     |████████████████▎               | 460kB 4.9MB/s eta 0:00:01\r\u001b[K     |████████████████▋               | 471kB 4.9MB/s eta 0:00:01\r\u001b[K     |█████████████████               | 481kB 4.9MB/s eta 0:00:01\r\u001b[K     |█████████████████▍              | 491kB 4.9MB/s eta 0:00:01\r\u001b[K     |█████████████████▊              | 501kB 4.9MB/s eta 0:00:01\r\u001b[K     |██████████████████▏             | 512kB 4.9MB/s eta 0:00:01\r\u001b[K     |██████████████████▌             | 522kB 4.9MB/s eta 0:00:01\r\u001b[K     |██████████████████▉             | 532kB 4.9MB/s eta 0:00:01\r\u001b[K     |███████████████████▏            | 542kB 4.9MB/s eta 0:00:01\r\u001b[K     |███████████████████▋            | 552kB 4.9MB/s eta 0:00:01\r\u001b[K     |████████████████████            | 563kB 4.9MB/s eta 0:00:01\r\u001b[K     |████████████████████▎           | 573kB 4.9MB/s eta 0:00:01\r\u001b[K     |████████████████████▋           | 583kB 4.9MB/s eta 0:00:01\r\u001b[K     |█████████████████████           | 593kB 4.9MB/s eta 0:00:01\r\u001b[K     |█████████████████████▍          | 604kB 4.9MB/s eta 0:00:01\r\u001b[K     |█████████████████████▊          | 614kB 4.9MB/s eta 0:00:01\r\u001b[K     |██████████████████████          | 624kB 4.9MB/s eta 0:00:01\r\u001b[K     |██████████████████████▌         | 634kB 4.9MB/s eta 0:00:01\r\u001b[K     |██████████████████████▉         | 645kB 4.9MB/s eta 0:00:01\r\u001b[K     |███████████████████████▏        | 655kB 4.9MB/s eta 0:00:01\r\u001b[K     |███████████████████████▌        | 665kB 4.9MB/s eta 0:00:01\r\u001b[K     |████████████████████████        | 675kB 4.9MB/s eta 0:00:01\r\u001b[K     |████████████████████████▎       | 686kB 4.9MB/s eta 0:00:01\r\u001b[K     |████████████████████████▋       | 696kB 4.9MB/s eta 0:00:01\r\u001b[K     |█████████████████████████       | 706kB 4.9MB/s eta 0:00:01\r\u001b[K     |█████████████████████████▍      | 716kB 4.9MB/s eta 0:00:01\r\u001b[K     |█████████████████████████▊      | 727kB 4.9MB/s eta 0:00:01\r\u001b[K     |██████████████████████████      | 737kB 4.9MB/s eta 0:00:01\r\u001b[K     |██████████████████████████▍     | 747kB 4.9MB/s eta 0:00:01\r\u001b[K     |██████████████████████████▉     | 757kB 4.9MB/s eta 0:00:01\r\u001b[K     |███████████████████████████▏    | 768kB 4.9MB/s eta 0:00:01\r\u001b[K     |███████████████████████████▌    | 778kB 4.9MB/s eta 0:00:01\r\u001b[K     |████████████████████████████    | 788kB 4.9MB/s eta 0:00:01\r\u001b[K     |████████████████████████████▎   | 798kB 4.9MB/s eta 0:00:01\r\u001b[K     |████████████████████████████▋   | 808kB 4.9MB/s eta 0:00:01\r\u001b[K     |█████████████████████████████   | 819kB 4.9MB/s eta 0:00:01\r\u001b[K     |█████████████████████████████▍  | 829kB 4.9MB/s eta 0:00:01\r\u001b[K     |█████████████████████████████▊  | 839kB 4.9MB/s eta 0:00:01\r\u001b[K     |██████████████████████████████  | 849kB 4.9MB/s eta 0:00:01\r\u001b[K     |██████████████████████████████▍ | 860kB 4.9MB/s eta 0:00:01\r\u001b[K     |██████████████████████████████▉ | 870kB 4.9MB/s eta 0:00:01\r\u001b[K     |███████████████████████████████▏| 880kB 4.9MB/s eta 0:00:01\r\u001b[K     |███████████████████████████████▌| 890kB 4.9MB/s eta 0:00:01\r\u001b[K     |███████████████████████████████▉| 901kB 4.9MB/s eta 0:00:01\r\u001b[K     |████████████████████████████████| 911kB 4.9MB/s \n",
            "\u001b[?25hRequirement already satisfied: urllib3 in /usr/local/lib/python3.7/dist-packages (from selenium) (1.24.3)\n",
            "Installing collected packages: selenium\n",
            "Successfully installed selenium-3.141.0\n"
          ],
          "name": "stdout"
        }
      ]
    },
    {
      "cell_type": "code",
      "metadata": {
        "id": "TDWyzyNytinE",
        "colab": {
          "base_uri": "https://localhost:8080/",
          "height": 340
        },
        "outputId": "85b35579-0c89-4348-e815-04439c1be524"
      },
      "source": [
        "pip install chromedriver-binary==91.0.4472.101.0"
      ],
      "execution_count": null,
      "outputs": [
        {
          "output_type": "stream",
          "text": [
            "Collecting chromedriver-binary==91.0.4472.101.0\n",
            "  Downloading https://files.pythonhosted.org/packages/6b/6f/3a5a9eee2fd8b92527359878582b63351c9ea0cb22e554a416f6b3dda763/chromedriver-binary-91.0.4472.101.0.tar.gz\n",
            "Building wheels for collected packages: chromedriver-binary\n",
            "  Building wheel for chromedriver-binary (setup.py) ... \u001b[?25l\u001b[?25hdone\n",
            "  Created wheel for chromedriver-binary: filename=chromedriver_binary-91.0.4472.101.0-cp37-none-any.whl size=5973615 sha256=cfcbdafa007f0ea5a6b6682f3ad9604df880267d30bb0932cee0cef551420842\n",
            "  Stored in directory: /root/.cache/pip/wheels/4e/8b/ab/4d486532bb70a30deeb588283b218c63cd67c893bee3e8b0e8\n",
            "Successfully built chromedriver-binary\n",
            "Installing collected packages: chromedriver-binary\n",
            "  Found existing installation: chromedriver-binary 92.0.4515.43.0\n",
            "    Uninstalling chromedriver-binary-92.0.4515.43.0:\n",
            "      Successfully uninstalled chromedriver-binary-92.0.4515.43.0\n",
            "Successfully installed chromedriver-binary-91.0.4472.101.0\n"
          ],
          "name": "stdout"
        },
        {
          "output_type": "display_data",
          "data": {
            "application/vnd.colab-display-data+json": {
              "pip_warning": {
                "packages": [
                  "chromedriver_binary"
                ]
              }
            }
          },
          "metadata": {
            "tags": []
          }
        }
      ]
    },
    {
      "cell_type": "code",
      "metadata": {
        "colab": {
          "base_uri": "https://localhost:8080/",
          "height": 389
        },
        "id": "x0hCz8yqsseI",
        "outputId": "aa9fbf82-f5d6-4bc9-a635-b5b5ce8e05b4"
      },
      "source": [
        "# coding: UTF-8\n",
        "from bs4 import BeautifulSoup\n",
        "from selenium import webdriver\n",
        "from selenium.webdriver.chrome.options import Options\n",
        "#from selenium import webdriver\n",
        "import chromedriver_binary  # Adds chromedriver binary to path\n",
        "\n",
        "# ブラウザのオプションを格納する変数をもらってきます。\n",
        "options = Options()\n",
        "\n",
        "# Headlessモードを有効にする（コメントアウトするとブラウザが実際に立ち上がります）\n",
        "options.set_headless(True)\n",
        "\n",
        "# ブラウザを起動する\n",
        "driver = webdriver.Chrome(options=options)\n",
        "\n",
        "# ブラウザでアクセスする\n",
        "driver.get(\"https://hiroyukidb.net/search/?words=IT\")\n",
        "\n",
        "# HTMLを文字コードをUTF-8に変換してから取得します。\n",
        "html = driver.page_source.encode('utf-8')\n",
        "\n",
        "# BeautifulSoupで扱えるようにパースします\n",
        "soup = BeautifulSoup(html, \"html.parser\")\n",
        "\n",
        "# idがheikinの要素を表示\n",
        "print(soup.find_all('h3'))"
      ],
      "execution_count": null,
      "outputs": [
        {
          "output_type": "error",
          "ename": "WebDriverException",
          "evalue": "ignored",
          "traceback": [
            "\u001b[0;31m---------------------------------------------------------------------------\u001b[0m",
            "\u001b[0;31mWebDriverException\u001b[0m                        Traceback (most recent call last)",
            "\u001b[0;32m<ipython-input-11-8cf8f8dd91f5>\u001b[0m in \u001b[0;36m<module>\u001b[0;34m()\u001b[0m\n\u001b[1;32m     13\u001b[0m \u001b[0;34m\u001b[0m\u001b[0m\n\u001b[1;32m     14\u001b[0m \u001b[0;31m# ブラウザを起動する\u001b[0m\u001b[0;34m\u001b[0m\u001b[0;34m\u001b[0m\u001b[0;34m\u001b[0m\u001b[0m\n\u001b[0;32m---> 15\u001b[0;31m \u001b[0mdriver\u001b[0m \u001b[0;34m=\u001b[0m \u001b[0mwebdriver\u001b[0m\u001b[0;34m.\u001b[0m\u001b[0mChrome\u001b[0m\u001b[0;34m(\u001b[0m\u001b[0moptions\u001b[0m\u001b[0;34m=\u001b[0m\u001b[0moptions\u001b[0m\u001b[0;34m)\u001b[0m\u001b[0;34m\u001b[0m\u001b[0;34m\u001b[0m\u001b[0m\n\u001b[0m\u001b[1;32m     16\u001b[0m \u001b[0;34m\u001b[0m\u001b[0m\n\u001b[1;32m     17\u001b[0m \u001b[0;31m# ブラウザでアクセスする\u001b[0m\u001b[0;34m\u001b[0m\u001b[0;34m\u001b[0m\u001b[0;34m\u001b[0m\u001b[0m\n",
            "\u001b[0;32m/usr/local/lib/python3.7/dist-packages/selenium/webdriver/chrome/webdriver.py\u001b[0m in \u001b[0;36m__init__\u001b[0;34m(self, executable_path, port, options, service_args, desired_capabilities, service_log_path, chrome_options, keep_alive)\u001b[0m\n\u001b[1;32m     71\u001b[0m             \u001b[0mservice_args\u001b[0m\u001b[0;34m=\u001b[0m\u001b[0mservice_args\u001b[0m\u001b[0;34m,\u001b[0m\u001b[0;34m\u001b[0m\u001b[0;34m\u001b[0m\u001b[0m\n\u001b[1;32m     72\u001b[0m             log_path=service_log_path)\n\u001b[0;32m---> 73\u001b[0;31m         \u001b[0mself\u001b[0m\u001b[0;34m.\u001b[0m\u001b[0mservice\u001b[0m\u001b[0;34m.\u001b[0m\u001b[0mstart\u001b[0m\u001b[0;34m(\u001b[0m\u001b[0;34m)\u001b[0m\u001b[0;34m\u001b[0m\u001b[0;34m\u001b[0m\u001b[0m\n\u001b[0m\u001b[1;32m     74\u001b[0m \u001b[0;34m\u001b[0m\u001b[0m\n\u001b[1;32m     75\u001b[0m         \u001b[0;32mtry\u001b[0m\u001b[0;34m:\u001b[0m\u001b[0;34m\u001b[0m\u001b[0;34m\u001b[0m\u001b[0m\n",
            "\u001b[0;32m/usr/local/lib/python3.7/dist-packages/selenium/webdriver/common/service.py\u001b[0m in \u001b[0;36mstart\u001b[0;34m(self)\u001b[0m\n\u001b[1;32m     96\u001b[0m         \u001b[0mcount\u001b[0m \u001b[0;34m=\u001b[0m \u001b[0;36m0\u001b[0m\u001b[0;34m\u001b[0m\u001b[0;34m\u001b[0m\u001b[0m\n\u001b[1;32m     97\u001b[0m         \u001b[0;32mwhile\u001b[0m \u001b[0;32mTrue\u001b[0m\u001b[0;34m:\u001b[0m\u001b[0;34m\u001b[0m\u001b[0;34m\u001b[0m\u001b[0m\n\u001b[0;32m---> 98\u001b[0;31m             \u001b[0mself\u001b[0m\u001b[0;34m.\u001b[0m\u001b[0massert_process_still_running\u001b[0m\u001b[0;34m(\u001b[0m\u001b[0;34m)\u001b[0m\u001b[0;34m\u001b[0m\u001b[0;34m\u001b[0m\u001b[0m\n\u001b[0m\u001b[1;32m     99\u001b[0m             \u001b[0;32mif\u001b[0m \u001b[0mself\u001b[0m\u001b[0;34m.\u001b[0m\u001b[0mis_connectable\u001b[0m\u001b[0;34m(\u001b[0m\u001b[0;34m)\u001b[0m\u001b[0;34m:\u001b[0m\u001b[0;34m\u001b[0m\u001b[0;34m\u001b[0m\u001b[0m\n\u001b[1;32m    100\u001b[0m                 \u001b[0;32mbreak\u001b[0m\u001b[0;34m\u001b[0m\u001b[0;34m\u001b[0m\u001b[0m\n",
            "\u001b[0;32m/usr/local/lib/python3.7/dist-packages/selenium/webdriver/common/service.py\u001b[0m in \u001b[0;36massert_process_still_running\u001b[0;34m(self)\u001b[0m\n\u001b[1;32m    109\u001b[0m             raise WebDriverException(\n\u001b[1;32m    110\u001b[0m                 \u001b[0;34m'Service %s unexpectedly exited. Status code was: %s'\u001b[0m\u001b[0;34m\u001b[0m\u001b[0;34m\u001b[0m\u001b[0m\n\u001b[0;32m--> 111\u001b[0;31m                 \u001b[0;34m%\u001b[0m \u001b[0;34m(\u001b[0m\u001b[0mself\u001b[0m\u001b[0;34m.\u001b[0m\u001b[0mpath\u001b[0m\u001b[0;34m,\u001b[0m \u001b[0mreturn_code\u001b[0m\u001b[0;34m)\u001b[0m\u001b[0;34m\u001b[0m\u001b[0;34m\u001b[0m\u001b[0m\n\u001b[0m\u001b[1;32m    112\u001b[0m             )\n\u001b[1;32m    113\u001b[0m \u001b[0;34m\u001b[0m\u001b[0m\n",
            "\u001b[0;31mWebDriverException\u001b[0m: Message: Service chromedriver unexpectedly exited. Status code was: -6\n"
          ]
        }
      ]
    },
    {
      "cell_type": "code",
      "metadata": {
        "colab": {
          "base_uri": "https://localhost:8080/",
          "height": 406
        },
        "id": "Tz4bf6LNyw9n",
        "outputId": "7962af68-cd00-4cb8-f5e3-dd829a592a00"
      },
      "source": [
        "from selenium import webdriver\n",
        "from selenium.webdriver.chrome.options import Options\n",
        "import chromedriver_binary\n",
        "\n",
        "# ブラウザーを起動\n",
        "options = Options()\n",
        "#options.binary_location = '/Applications/Google Chrome Canary.app/Contents/MacOS/Google Chrome Canary'\n",
        "options.add_argument('--headless')\n",
        "driver = webdriver.Chrome(options=options)\n",
        "\n",
        "# Google検索画面にアクセス\n",
        "driver.get('https://www.google.co.jp/')\n",
        "\n",
        "# htmlを取得・表示\n",
        "html = driver.page_source\n",
        "print(html)\n",
        "\n",
        "# ブラウザーを終了\n",
        "driver.quit()"
      ],
      "execution_count": null,
      "outputs": [
        {
          "output_type": "error",
          "ename": "WebDriverException",
          "evalue": "ignored",
          "traceback": [
            "\u001b[0;31m---------------------------------------------------------------------------\u001b[0m",
            "\u001b[0;31mWebDriverException\u001b[0m                        Traceback (most recent call last)",
            "\u001b[0;32m<ipython-input-12-703f0c084895>\u001b[0m in \u001b[0;36m<module>\u001b[0;34m()\u001b[0m\n\u001b[1;32m      7\u001b[0m \u001b[0;31m#options.binary_location = '/Applications/Google Chrome Canary.app/Contents/MacOS/Google Chrome Canary'\u001b[0m\u001b[0;34m\u001b[0m\u001b[0;34m\u001b[0m\u001b[0;34m\u001b[0m\u001b[0m\n\u001b[1;32m      8\u001b[0m \u001b[0moptions\u001b[0m\u001b[0;34m.\u001b[0m\u001b[0madd_argument\u001b[0m\u001b[0;34m(\u001b[0m\u001b[0;34m'--headless'\u001b[0m\u001b[0;34m)\u001b[0m\u001b[0;34m\u001b[0m\u001b[0;34m\u001b[0m\u001b[0m\n\u001b[0;32m----> 9\u001b[0;31m \u001b[0mdriver\u001b[0m \u001b[0;34m=\u001b[0m \u001b[0mwebdriver\u001b[0m\u001b[0;34m.\u001b[0m\u001b[0mChrome\u001b[0m\u001b[0;34m(\u001b[0m\u001b[0moptions\u001b[0m\u001b[0;34m=\u001b[0m\u001b[0moptions\u001b[0m\u001b[0;34m)\u001b[0m\u001b[0;34m\u001b[0m\u001b[0;34m\u001b[0m\u001b[0m\n\u001b[0m\u001b[1;32m     10\u001b[0m \u001b[0;34m\u001b[0m\u001b[0m\n\u001b[1;32m     11\u001b[0m \u001b[0;31m# Google検索画面にアクセス\u001b[0m\u001b[0;34m\u001b[0m\u001b[0;34m\u001b[0m\u001b[0;34m\u001b[0m\u001b[0m\n",
            "\u001b[0;32m/usr/local/lib/python3.7/dist-packages/selenium/webdriver/chrome/webdriver.py\u001b[0m in \u001b[0;36m__init__\u001b[0;34m(self, executable_path, port, options, service_args, desired_capabilities, service_log_path, chrome_options, keep_alive)\u001b[0m\n\u001b[1;32m     71\u001b[0m             \u001b[0mservice_args\u001b[0m\u001b[0;34m=\u001b[0m\u001b[0mservice_args\u001b[0m\u001b[0;34m,\u001b[0m\u001b[0;34m\u001b[0m\u001b[0;34m\u001b[0m\u001b[0m\n\u001b[1;32m     72\u001b[0m             log_path=service_log_path)\n\u001b[0;32m---> 73\u001b[0;31m         \u001b[0mself\u001b[0m\u001b[0;34m.\u001b[0m\u001b[0mservice\u001b[0m\u001b[0;34m.\u001b[0m\u001b[0mstart\u001b[0m\u001b[0;34m(\u001b[0m\u001b[0;34m)\u001b[0m\u001b[0;34m\u001b[0m\u001b[0;34m\u001b[0m\u001b[0m\n\u001b[0m\u001b[1;32m     74\u001b[0m \u001b[0;34m\u001b[0m\u001b[0m\n\u001b[1;32m     75\u001b[0m         \u001b[0;32mtry\u001b[0m\u001b[0;34m:\u001b[0m\u001b[0;34m\u001b[0m\u001b[0;34m\u001b[0m\u001b[0m\n",
            "\u001b[0;32m/usr/local/lib/python3.7/dist-packages/selenium/webdriver/common/service.py\u001b[0m in \u001b[0;36mstart\u001b[0;34m(self)\u001b[0m\n\u001b[1;32m     96\u001b[0m         \u001b[0mcount\u001b[0m \u001b[0;34m=\u001b[0m \u001b[0;36m0\u001b[0m\u001b[0;34m\u001b[0m\u001b[0;34m\u001b[0m\u001b[0m\n\u001b[1;32m     97\u001b[0m         \u001b[0;32mwhile\u001b[0m \u001b[0;32mTrue\u001b[0m\u001b[0;34m:\u001b[0m\u001b[0;34m\u001b[0m\u001b[0;34m\u001b[0m\u001b[0m\n\u001b[0;32m---> 98\u001b[0;31m             \u001b[0mself\u001b[0m\u001b[0;34m.\u001b[0m\u001b[0massert_process_still_running\u001b[0m\u001b[0;34m(\u001b[0m\u001b[0;34m)\u001b[0m\u001b[0;34m\u001b[0m\u001b[0;34m\u001b[0m\u001b[0m\n\u001b[0m\u001b[1;32m     99\u001b[0m             \u001b[0;32mif\u001b[0m \u001b[0mself\u001b[0m\u001b[0;34m.\u001b[0m\u001b[0mis_connectable\u001b[0m\u001b[0;34m(\u001b[0m\u001b[0;34m)\u001b[0m\u001b[0;34m:\u001b[0m\u001b[0;34m\u001b[0m\u001b[0;34m\u001b[0m\u001b[0m\n\u001b[1;32m    100\u001b[0m                 \u001b[0;32mbreak\u001b[0m\u001b[0;34m\u001b[0m\u001b[0;34m\u001b[0m\u001b[0m\n",
            "\u001b[0;32m/usr/local/lib/python3.7/dist-packages/selenium/webdriver/common/service.py\u001b[0m in \u001b[0;36massert_process_still_running\u001b[0;34m(self)\u001b[0m\n\u001b[1;32m    109\u001b[0m             raise WebDriverException(\n\u001b[1;32m    110\u001b[0m                 \u001b[0;34m'Service %s unexpectedly exited. Status code was: %s'\u001b[0m\u001b[0;34m\u001b[0m\u001b[0;34m\u001b[0m\u001b[0m\n\u001b[0;32m--> 111\u001b[0;31m                 \u001b[0;34m%\u001b[0m \u001b[0;34m(\u001b[0m\u001b[0mself\u001b[0m\u001b[0;34m.\u001b[0m\u001b[0mpath\u001b[0m\u001b[0;34m,\u001b[0m \u001b[0mreturn_code\u001b[0m\u001b[0;34m)\u001b[0m\u001b[0;34m\u001b[0m\u001b[0;34m\u001b[0m\u001b[0m\n\u001b[0m\u001b[1;32m    112\u001b[0m             )\n\u001b[1;32m    113\u001b[0m \u001b[0;34m\u001b[0m\u001b[0m\n",
            "\u001b[0;31mWebDriverException\u001b[0m: Message: Service chromedriver unexpectedly exited. Status code was: -6\n"
          ]
        }
      ]
    },
    {
      "cell_type": "code",
      "metadata": {
        "id": "0IZGhHrJzToU"
      },
      "source": [
        "!apt-get update\n",
        "!apt install chromium-chromedriver\n",
        "!cp /usr/lib/chromium-browser/chromedriver /usr/bin\n",
        "!pip install selenium"
      ],
      "execution_count": null,
      "outputs": []
    },
    {
      "cell_type": "code",
      "metadata": {
        "id": "sQ33VPPC0avG"
      },
      "source": [
        "#SeleniumとBeautifulSoupのライブラリをインポート\n",
        "from selenium import webdriver\n",
        "from selenium.webdriver.chrome.options import Options\n",
        "from bs4 import BeautifulSoup"
      ],
      "execution_count": null,
      "outputs": []
    },
    {
      "cell_type": "code",
      "metadata": {
        "id": "dsenTGRL0nsD"
      },
      "source": [
        "# ブラウザをheadlessモード（バックグラウンドで動くモード）で立ち上げてwebsiteを表示、生成されたhtmlを取得し、BeautifulSoupで綺麗にする。\n",
        "options = webdriver.ChromeOptions()\n",
        "options.add_argument('--headless')\n",
        "options.add_argument('--no-sandbox')\n",
        "options.add_argument('--disable-dev-shm-usage')\n",
        "driver = webdriver.Chrome('chromedriver',options=options)\n",
        "driver.implicitly_wait(10)\n",
        "driver.get(\"https://hiroyukidb.net/search/?words=IT\")\n",
        "html = driver.page_source.encode('utf-8')\n",
        "soup = BeautifulSoup(html, \"html.parser\")\n",
        "print(soup.prettify())"
      ],
      "execution_count": null,
      "outputs": []
    },
    {
      "cell_type": "code",
      "metadata": {
        "colab": {
          "base_uri": "https://localhost:8080/"
        },
        "id": "FS8zBJok0tng",
        "outputId": "0e600b24-5201-4ee2-b86c-5fd43c6d5179"
      },
      "source": [
        "import pprint\n",
        "\n",
        "#box = []\n",
        "\n",
        "#ローカルファイルから読み込み\n",
        "html_path = '/content/hiroyukiDB_IT.html'\n",
        "\n",
        "with open(html_path) as f:\n",
        "    res= f.read()\n",
        "\n",
        "soup = BeautifulSoup(res, 'html.parser')\n",
        "\n",
        "# pprint.pprint(soup.find_all('h3'))\n",
        "# pprint.pprint(soup.find_all('span'))\n",
        "# pprint.pprint(soup.find_all(class_=\"hiduke\"))\n",
        "# pprint.pprint(soup.find_all(class_=\"between\"))\n",
        "\n",
        "#for i in range(6):\n",
        "box = soup.find_all('h3')\n",
        "#print(box)\n",
        "\n",
        "for index, e in enumerate(box):\n",
        "    #num = index   #スプレッドシートの番号に「0」が無いので先に1をプラス\n",
        "    #wks.update_acell('A'+str(num) , e.get_text())\n",
        "    print(index, e.get_text())"
      ],
      "execution_count": null,
      "outputs": [
        {
          "output_type": "stream",
          "text": [
            "0 役に立ったと思うアプリを教えて\n",
            "1 ギルドとひろゆきさんの関わりは？\n",
            "2 AIが進んでも少子化って問題？\n",
            "3 霊を映像に映したい\n",
            "4 ネットは実名義務化すべきでは？\n",
            "5 誤情報を拡散する人は愚か\n",
            "6 将来に使えるプログラミング言語\n",
            "7 小学生におすすめのノートパソコンは？\n",
            "8 ニコ動の違反動画は削除できる？\n",
            "9 ピーターティールについて\n",
            "10 情報セキュリティと法律家\n",
            "11 流行るアプリ\n",
            "12 新しい投げ銭サービス\n",
            "13 スパチャのお金の5割はアメリカへ外国からお金を取り戻さないとヤバイ\n",
            "14 ひろゆきが面白いと思ったアプリ\n",
            "15 オススメのパソコン\n",
            "16 学校でGoogle翻訳使わせた方がいい\n",
            "17 VRボクシングゲームで強くなれた。経験ないけどリアルでもボクシング強いかもって思い始めた\n",
            "18 セブンペイのやらかしについて。無能な偉い人の仕様で事故る。\n",
            "19 30年以内に知的障害者の代弁をするAIは開発される？\n",
            "20 スティーブジョブズ抜きではappleもうだめ？\n",
            "21 ネット文化を牽引する日本発のプラットフォームは新しくできる？\n",
            "22 婚活アプリから免許証データ流出した \n",
            "23 学校でタブレット配られるけど教育のIT化どう思う？\n",
            "24 プログラミングの勉強で画像記憶能力を活かすには？\n",
            "25 インクス・セキュリティートークンの今後は？\n",
            "26 タブレットアプリ作りたい、KotlinとJavaとどっちがいい？\n",
            "27 「2021年デジタルの日」は21年10月10日・11日\n",
            "28 日本のeスポーツ事業今後の展望\n",
            "29 日本のドローン産業\n",
            "30 2chみたいにインパクト与えれるようなWebアプリサービス作りたい\n",
            "31 spoonという音声配信アプリ\n",
            "32 特定画面切り替わるゲーム、おすすめのプログラミング言語は？\n",
            "33 Tiktokライブでアンチに酷い目に合う、アンチ撃退方法は？\n",
            "34 職業訓練・プログラミングスクールどっちいくべき？\n",
            "35 ホームページつくるとしたら何つくる？\n",
            "36 ＳＮＳ今後どうなる\n",
            "37 タッチタイピングのコツ教えて\n",
            "38 大食いyoutuber知ってる？\n",
            "39 AIの画像認識でどんなアプリ・サービスを作る？\n",
            "40 C言語はいらない？Cのメリット①\n",
            "41 C言語はいらない？Cのメリット②\n",
            "42 トラックの運転手は自動運転化により職は無くなる？\n",
            "43 もし今高校生大学生ならテックキャンプの授業受けてた？\n",
            "44 ITコンサルの将来\n",
            "45 コロナ後テクノロジーが急発展して人々病むのでは？\n",
            "46 SNSは民主主義や政治に良い影響を与えているか？\n",
            "47 インフラ系SE、日本中くそシステムだらけになる！\n",
            "48 無能だけどアプリ作りたいです。\n",
            "49 医療系のアプリが欲しいけど、どこに相談すれば良い？\n"
          ],
          "name": "stdout"
        }
      ]
    },
    {
      "cell_type": "code",
      "metadata": {
        "id": "mj0xDRbV18tj"
      },
      "source": [
        ""
      ],
      "execution_count": null,
      "outputs": []
    }
  ]
}