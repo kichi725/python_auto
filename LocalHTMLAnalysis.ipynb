{
  "nbformat": 4,
  "nbformat_minor": 0,
  "metadata": {
    "colab": {
      "name": "LocalHTMLAnalysis.ipynb",
      "provenance": [],
      "authorship_tag": "ABX9TyPrNeR2IhM9JDHVAIWobk6w",
      "include_colab_link": true
    },
    "kernelspec": {
      "name": "python3",
      "display_name": "Python 3"
    },
    "language_info": {
      "name": "python"
    }
  },
  "cells": [
    {
      "cell_type": "markdown",
      "metadata": {
        "id": "view-in-github",
        "colab_type": "text"
      },
      "source": [
        "<a href=\"https://colab.research.google.com/github/matsukage-github/python_auto/blob/main/LocalHTMLAnalysis.ipynb\" target=\"_parent\"><img src=\"https://colab.research.google.com/assets/colab-badge.svg\" alt=\"Open In Colab\"/></a>"
      ]
    },
    {
      "cell_type": "code",
      "metadata": {
        "colab": {
          "base_uri": "https://localhost:8080/"
        },
        "id": "KTykmNe6p-QW",
        "outputId": "e625d4e3-2a92-4d93-85bd-5a881982ac9e"
      },
      "source": [
        "pip install beautifulsoup4"
      ],
      "execution_count": 3,
      "outputs": [
        {
          "output_type": "stream",
          "text": [
            "Requirement already satisfied: beautifulsoup4 in /usr/local/lib/python3.7/dist-packages (4.6.3)\n"
          ],
          "name": "stdout"
        }
      ]
    },
    {
      "cell_type": "code",
      "metadata": {
        "colab": {
          "base_uri": "https://localhost:8080/"
        },
        "id": "hOA-FqXTpsvD",
        "outputId": "18b869a2-4717-48bc-dcbf-1828a85c8062"
      },
      "source": [
        "from bs4 import BeautifulSoup\n",
        "import pprint\n",
        "\n",
        "#ローカルファイルから読み込み\n",
        "html_path = '/content/hiroyukiDB_IT.html'\n",
        "\n",
        "with open(html_path) as f:\n",
        "    res= f.read()\n",
        "\n",
        "soup = BeautifulSoup(res, 'html.parser')\n",
        "\n",
        "# pprint.pprint(soup.find_all('h3'))\n",
        "# pprint.pprint(soup.find_all('span'))\n",
        "# pprint.pprint(soup.find_all(class_=\"hiduke\"))\n",
        "# pprint.pprint(soup.find_all(class_=\"between\"))\n",
        "\n",
        "#for i in range(6):\n",
        "box = soup.find_all('h3')\n",
        "\n",
        "for index, e in enumerate(box):\n",
        "    #num = index   #スプレッドシートの番号に「0」が無いので先に1をプラス\n",
        "    #wks.update_acell('A'+str(num) , e.get_text())\n",
        "    print(index, e.get_text())"
      ],
      "execution_count": 4,
      "outputs": [
        {
          "output_type": "stream",
          "text": [
            "0 役に立ったと思うアプリを教えて\n",
            "1 ギルドとひろゆきさんの関わりは？\n",
            "2 AIが進んでも少子化って問題？\n",
            "3 霊を映像に映したい\n",
            "4 ネットは実名義務化すべきでは？\n",
            "5 誤情報を拡散する人は愚か\n",
            "6 将来に使えるプログラミング言語\n",
            "7 小学生におすすめのノートパソコンは？\n",
            "8 ニコ動の違反動画は削除できる？\n",
            "9 ピーターティールについて\n",
            "10 情報セキュリティと法律家\n",
            "11 流行るアプリ\n",
            "12 新しい投げ銭サービス\n",
            "13 スパチャのお金の5割はアメリカへ外国からお金を取り戻さないとヤバイ\n",
            "14 ひろゆきが面白いと思ったアプリ\n",
            "15 オススメのパソコン\n",
            "16 学校でGoogle翻訳使わせた方がいい\n",
            "17 VRボクシングゲームで強くなれた。経験ないけどリアルでもボクシング強いかもって思い始めた\n",
            "18 セブンペイのやらかしについて。無能な偉い人の仕様で事故る。\n",
            "19 30年以内に知的障害者の代弁をするAIは開発される？\n",
            "20 スティーブジョブズ抜きではappleもうだめ？\n",
            "21 ネット文化を牽引する日本発のプラットフォームは新しくできる？\n",
            "22 婚活アプリから免許証データ流出した \n",
            "23 学校でタブレット配られるけど教育のIT化どう思う？\n",
            "24 プログラミングの勉強で画像記憶能力を活かすには？\n",
            "25 インクス・セキュリティートークンの今後は？\n",
            "26 タブレットアプリ作りたい、KotlinとJavaとどっちがいい？\n",
            "27 「2021年デジタルの日」は21年10月10日・11日\n",
            "28 日本のeスポーツ事業今後の展望\n",
            "29 日本のドローン産業\n",
            "30 2chみたいにインパクト与えれるようなWebアプリサービス作りたい\n",
            "31 spoonという音声配信アプリ\n",
            "32 特定画面切り替わるゲーム、おすすめのプログラミング言語は？\n",
            "33 Tiktokライブでアンチに酷い目に合う、アンチ撃退方法は？\n",
            "34 職業訓練・プログラミングスクールどっちいくべき？\n",
            "35 ホームページつくるとしたら何つくる？\n",
            "36 ＳＮＳ今後どうなる\n",
            "37 タッチタイピングのコツ教えて\n",
            "38 大食いyoutuber知ってる？\n",
            "39 AIの画像認識でどんなアプリ・サービスを作る？\n",
            "40 C言語はいらない？Cのメリット①\n",
            "41 C言語はいらない？Cのメリット②\n",
            "42 トラックの運転手は自動運転化により職は無くなる？\n",
            "43 もし今高校生大学生ならテックキャンプの授業受けてた？\n",
            "44 ITコンサルの将来\n",
            "45 コロナ後テクノロジーが急発展して人々病むのでは？\n",
            "46 SNSは民主主義や政治に良い影響を与えているか？\n",
            "47 インフラ系SE、日本中くそシステムだらけになる！\n",
            "48 無能だけどアプリ作りたいです。\n",
            "49 医療系のアプリが欲しいけど、どこに相談すれば良い？\n"
          ],
          "name": "stdout"
        }
      ]
    },
    {
      "cell_type": "code",
      "metadata": {
        "id": "FcqK7gKzqU7-"
      },
      "source": [
        ""
      ],
      "execution_count": null,
      "outputs": []
    }
  ]
}